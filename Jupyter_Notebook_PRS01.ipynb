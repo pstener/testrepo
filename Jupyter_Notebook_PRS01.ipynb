{
 "cells": [
  {
   "cell_type": "markdown",
   "id": "ea1ccf02-fdc9-4dfd-afef-09d0f8767aa9",
   "metadata": {},
   "source": [
    "# My Jupyter Notebook on IBM Watson Studio"
   ]
  },
  {
   "cell_type": "markdown",
   "id": "e7b28511-42be-4503-9722-c663e4fb9066",
   "metadata": {},
   "source": [
    "**Paul S.**  \n",
    "Analytics Developer"
   ]
  },
  {
   "cell_type": "markdown",
   "id": "17adc9f0-0092-4c8c-8784-ea8e28c162e1",
   "metadata": {},
   "source": [
    "*I want to get better at my job.*"
   ]
  },
  {
   "cell_type": "markdown",
   "id": "5e489187-6e4f-4411-a087-6345fc2d8bce",
   "metadata": {},
   "source": [
    "### Cell 5 is to print \"Hello World!\""
   ]
  },
  {
   "cell_type": "code",
   "execution_count": 1,
   "id": "c534b7d8-4706-49b1-88d5-fe5d01b6b192",
   "metadata": {},
   "outputs": [
    {
     "name": "stdout",
     "output_type": "stream",
     "text": [
      "Hello World!\n"
     ]
    }
   ],
   "source": [
    "print(\"Hello World!\")"
   ]
  },
  {
   "cell_type": "markdown",
   "id": "afb34248-9e39-44ac-a9cb-5008603368f8",
   "metadata": {},
   "source": [
    "[Link to Duck Duck Go](https://duckduckgo.com)  \n",
    "~~This text will be strikethrough.~~  \n"
   ]
  },
  {
   "cell_type": "code",
   "execution_count": null,
   "id": "1afe99a0-20fd-4a0f-b7b4-ce145c392abf",
   "metadata": {},
   "outputs": [],
   "source": []
  }
 ],
 "metadata": {
  "kernelspec": {
   "display_name": "Python",
   "language": "python",
   "name": "conda-env-python-py"
  },
  "language_info": {
   "codemirror_mode": {
    "name": "ipython",
    "version": 3
   },
   "file_extension": ".py",
   "mimetype": "text/x-python",
   "name": "python",
   "nbconvert_exporter": "python",
   "pygments_lexer": "ipython3",
   "version": "3.7.12"
  }
 },
 "nbformat": 4,
 "nbformat_minor": 5
}
