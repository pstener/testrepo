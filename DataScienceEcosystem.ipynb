{
 "cells": [
  {
   "cell_type": "markdown",
   "id": "c19ddf55-b176-41e5-9aa2-40e51d893143",
   "metadata": {},
   "source": [
    "# Data Science Tools and Ecosystem"
   ]
  },
  {
   "cell_type": "markdown",
   "id": "1384141a-f320-4ce7-8020-8bdad2facb05",
   "metadata": {},
   "source": [
    "In this notebook, Data Science Tools and Ecosystem are summarized."
   ]
  },
  {
   "cell_type": "markdown",
   "id": "9cce4e67-7451-489e-b11b-3984be7aa97a",
   "metadata": {},
   "source": [
    "Objectives:  \n",
    "- List popular languages for Data Science\n",
    "- Commonly used libraries used by Data Scientists\n",
    "- Data Science Tools"
   ]
  },
  {
   "cell_type": "markdown",
   "id": "1292cddd-684f-4e38-bafb-7bd85054c253",
   "metadata": {},
   "source": [
    "Some of the popular languages that Data Scientists use are:  \n",
    "1. Python\n",
    "2. R\n",
    "3. SQL"
   ]
  },
  {
   "cell_type": "markdown",
   "id": "0f2bcc11-0691-455e-a2bf-07d156f496ad",
   "metadata": {},
   "source": [
    "Some of the commonly used libraries used by Data Scientists include:  \n",
    "1. NumPy\n",
    "2. TensorFlow\n",
    "3. Pandas\n",
    "4. Matplotlib"
   ]
  },
  {
   "cell_type": "markdown",
   "id": "532d4ab4-845f-4084-9b4d-694971f4845f",
   "metadata": {},
   "source": [
    "| Data Science Tools|\n",
    "| ----------------- |\n",
    "| Jupyter Notebooks |\n",
    "| RStudio IDE       |\n",
    "| GitHub            |"
   ]
  },
  {
   "cell_type": "markdown",
   "id": "4c6b3685-7854-4b28-adcf-7d027fd26f1b",
   "metadata": {},
   "source": [
    "### Below are a few examples of evaluating arithmetic expressions in Python"
   ]
  },
  {
   "cell_type": "code",
   "execution_count": 2,
   "id": "8651f2ae-8849-4a5d-bae9-abfd17d5cf4e",
   "metadata": {},
   "outputs": [
    {
     "data": {
      "text/plain": [
       "17"
      ]
     },
     "execution_count": 2,
     "metadata": {},
     "output_type": "execute_result"
    }
   ],
   "source": [
    "# This a simple arithmetic expression to mutiply then add integers\n",
    "(3*4)+5"
   ]
  },
  {
   "cell_type": "code",
   "execution_count": 4,
   "id": "965ff145-0c9d-422d-bf6f-57e91fe5883f",
   "metadata": {},
   "outputs": [
    {
     "data": {
      "text/plain": [
       "3.3333333333333335"
      ]
     },
     "execution_count": 4,
     "metadata": {},
     "output_type": "execute_result"
    }
   ],
   "source": [
    "# This will convert 200 minutes to hours by diving by 60\n",
    "200/60"
   ]
  },
  {
   "cell_type": "markdown",
   "id": "85ef2e7f-356e-4fda-a212-36a4a89bdf09",
   "metadata": {},
   "source": [
    "## Author  \n",
    "Paul S."
   ]
  },
  {
   "cell_type": "code",
   "execution_count": null,
   "id": "8378e75b-33e4-40f3-b5cf-a32356fe3f1b",
   "metadata": {},
   "outputs": [],
   "source": []
  }
 ],
 "metadata": {
  "kernelspec": {
   "display_name": "Python",
   "language": "python",
   "name": "conda-env-python-py"
  },
  "language_info": {
   "codemirror_mode": {
    "name": "ipython",
    "version": 3
   },
   "file_extension": ".py",
   "mimetype": "text/x-python",
   "name": "python",
   "nbconvert_exporter": "python",
   "pygments_lexer": "ipython3",
   "version": "3.7.12"
  }
 },
 "nbformat": 4,
 "nbformat_minor": 5
}
